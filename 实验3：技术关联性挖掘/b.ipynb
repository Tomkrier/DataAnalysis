{
 "cells": [
  {
   "cell_type": "code",
   "id": "initial_id",
   "metadata": {
    "collapsed": true,
    "ExecuteTime": {
     "end_time": "2024-05-15T07:47:16.551772Z",
     "start_time": "2024-05-15T07:47:14.792817Z"
    }
   },
   "source": [
    "import pandas as pd\n",
    "from apriori import load_apriori, getAsso\n",
    "from glm import ask_glm, init_ai, chatTools, chat_glmOnce\n",
    "\n",
    "\n",
    "def load_data(fname):\n",
    "    df = pd.read_csv(fname)\n",
    "    # print(df.head())\n",
    "    return df\n",
    "\n",
    "\n",
    "dataset = load_data(\"招聘数据集(含技能列表).csv\")\n",
    "biga_load = load_apriori(\"apriori.bin\")\n",
    "s = getAsso(biga_load, 'linux', 0.1)\n",
    "print(s)"
   ],
   "execution_count": 1,
   "outputs": []
  },
  {
   "metadata": {
    "ExecuteTime": {
     "end_time": "2024-05-15T07:58:34.682492Z",
     "start_time": "2024-05-15T07:58:34.670827Z"
    }
   },
   "cell_type": "code",
   "source": [
    "def get_asso_skill(dataset, skill, prompt):\n",
    "    print(f\"get_asso_skill: {skill}\")\n",
    "    biga_load = load_apriori(\"apriori.bin\")\n",
    "    s = getAsso(biga_load, skill.lower(), 0.1)\n",
    "    print(f\"{skill}对应的关联技术是：{s}\")\n",
    "    if len(s) == 0:\n",
    "        return prompt\n",
    "    else:\n",
    "        s = list(s)\n",
    "        s = ', '.join(s)\n",
    "        return f\"针对问题{prompt},我查询到关联性最高的技术是{str(s)}，请将查询结果组织成人类语言描述。可以附加一些学习建议。总字数不超过200字\"\n",
    "\n",
    "# dataset为当前数据集，skill是技能词汇，例如'java','linux'，count表示返回做多几个岗位。\n",
    "def cacu_skill_position_wordcount(dataset, skill, prompt, count=2):\n",
    "    print(f\"get_asso_skill: {skill}\")\n",
    "    # 将skill转为小写。\n",
    "    skill = skill.lower()\n",
    "    # 构建字典，方便后续排序\n",
    "    postion_dict = {}\n",
    "    # 遍历dataset\n",
    "    for i in range(len(dataset)):\n",
    "        # 将dataset中这一行的'skill_list'的内容取出来，使用逗号进行切割。\n",
    "        skills = dataset['skill_list'][i].split(',')\n",
    "        # 遍历切割后的技能列表\n",
    "        for s in skills:\n",
    "            # 如果当前技能与目标技能相同，则进行统计\n",
    "            if s.strip().lower() == skill:\n",
    "                # 获取当前行的职位名称\n",
    "                position = dataset['positionName'][i]\n",
    "                # 如果该职位在字典中，则将其词频加1，否则初始化为1\n",
    "                if position in postion_dict:\n",
    "                    postion_dict[position] += 1\n",
    "                else:\n",
    "                    postion_dict[position] = 1\n",
    "    # 将字典按照value排序，倒序排列，取前面count个成员\n",
    "    sorted_positions = sorted(postion_dict.items(), key=lambda x: x[1], reverse=True)[:count]\n",
    "    return f\"针对问题{prompt},我查询到关联性最高的岗位是{str(sorted_positions)}，请将查询结果组织成人类语言描述。可以附加一些建议。总字数不超过200字\"\n",
    "\n",
    "\n",
    "# 忽略字符串大小写做字符串对比，key如果落在str中也算匹配\n",
    "def compare_str(str1, key):\n",
    "    s1 = str1.lower()\n",
    "    s2 = key.lower()\n",
    "    if s1 == s2:\n",
    "        return True\n",
    "    if s2 in s1:\n",
    "        return True\n",
    "    return False\n",
    "\n",
    "\n",
    "def cacu_postion_skill_wordcount(dataset, postionName, prompt, count=4):\n",
    "    print(f\"get_asso_skill: {postionName}\")\n",
    "    postion_data = []\n",
    "    # 将postionName和数据集中'positionName'列匹配的行抽取出来，放入postion_data\n",
    "    for index, row in dataset.iterrows():\n",
    "        if compare_str(row['positionName'], postionName):\n",
    "            postion_data.append(row)\n",
    "    # 将postion_data的'skill_list'放入skill_list\n",
    "    skill_list = []\n",
    "    for row in postion_data:\n",
    "        skill_list.extend(row['skill_list'].split(','))\n",
    "    \n",
    "    # 将skill_list中的每个成员都用逗号切割，将所有切割出来的成员做词频统计\n",
    "    skill_dict = {}\n",
    "    for skill in skill_list:\n",
    "        skill = skill.strip()  # 去除前后空格\n",
    "        if skill:\n",
    "            if skill in skill_dict:\n",
    "                skill_dict[skill] += 1\n",
    "            else:\n",
    "                skill_dict[skill] = 1\n",
    "    # 将统计出来的词频字典倒序排列，取最高的count个成员返回\n",
    "    sorted_skills = sorted(skill_dict.items(), key=lambda x: x[1], reverse=True)[:count]\n",
    "\n",
    "    return f\"针对问题{prompt},我查询到关联性最高的技术是{str(sorted_skills)}，请将查询结果组织成人类语言描述。可以附加一些建议。总字数不超过200字\"\n",
    "\n",
    "\n",
    "query_asso_skill_tool = {\n",
    "    \"type\": \"function\",\n",
    "    \"function\": {\n",
    "        \"name\": \"get_asso_skill\",\n",
    "        \"description\": \"针对用户进行学习推荐。根据用户提示的技能，找出关联的技能用于学习推荐\",\n",
    "        \"parameters\": {\n",
    "            \"type\": \"object\",\n",
    "            \"properties\": {\n",
    "                \"skill\": {\n",
    "                    \"type\": \"string\",\n",
    "                    \"description\": \"技能名称，如java，python，c++\",\n",
    "                },\n",
    "            },\n",
    "            \"required\": [\"skill\"],\n",
    "        },\n",
    "    }\n",
    "}\n",
    "\n",
    "query_skill_positionl_tool = {\n",
    "    \"type\": \"function\",\n",
    "    \"function\": {\n",
    "        \"name\": \"cacu_skill_position_wordcount\",\n",
    "        \"description\": \"针对用户进行岗位推荐。根据用户提示的技能，找出关联的岗位用于推荐\",\n",
    "        \"parameters\": {\n",
    "            \"type\": \"object\",\n",
    "            \"properties\": {\n",
    "                \"skill\": {\n",
    "                    \"type\": \"string\",\n",
    "                    \"description\": \"技能名称，如java，python，c++\",\n",
    "                },\n",
    "            },\n",
    "            \"required\": [\"skill\"],\n",
    "        },\n",
    "    }\n",
    "}\n",
    "\n",
    "query_positionl_skill_tool = {\n",
    "    \"type\": \"function\",\n",
    "    \"function\": {\n",
    "        \"name\": \"cacu_postion_skill_wordcount\",\n",
    "        \"description\": \"针对用户进行技能推荐。根据用户提示的岗位，找出关联的技能用于推荐\",\n",
    "        \"parameters\": {\n",
    "            \"type\": \"object\",\n",
    "            \"properties\": {\n",
    "                \"postionName\": {\n",
    "                    \"type\": \"string\",\n",
    "                    \"description\": \"岗位名称，如Java工程师，Python工程师，C/C++开发工程师，算法工程师，PHP开发工程师\",\n",
    "                },\n",
    "            },\n",
    "            \"required\": [\"postionName\"],\n",
    "        },\n",
    "    }\n",
    "}\n",
    "\n",
    "tools = [query_asso_skill_tool, query_skill_positionl_tool, query_positionl_skill_tool]\n",
    "function_list = {\"get_asso_skill\": get_asso_skill,\n",
    "                 \"cacu_skill_position_wordcount\": cacu_skill_position_wordcount,\n",
    "                 \"cacu_postion_skill_wordcount\": cacu_postion_skill_wordcount,\n",
    "                 }"
   ],
   "id": "54dfe097572dc350",
   "execution_count": 24,
   "outputs": []
  },
  {
   "metadata": {
    "ExecuteTime": {
     "end_time": "2024-05-15T07:47:16.575496Z",
     "start_time": "2024-05-15T07:47:16.567751Z"
    }
   },
   "cell_type": "code",
   "source": [
    "def fun(text):\n",
    "    ack = chatTools(init_ai(), text, tools, 0.6)\n",
    "    result = ask_glm(init_ai(), tools, 0.6, text, function_list, dataset)\n",
    "    print(\"提问: \" + result)\n",
    "    print(chat_glmOnce(init_ai(), result).message.content)"
   ],
   "id": "b4bead6c1328f62d",
   "execution_count": 3,
   "outputs": []
  },
  {
   "metadata": {
    "ExecuteTime": {
     "end_time": "2024-05-15T07:49:53.622243Z",
     "start_time": "2024-05-15T07:49:44.968756Z"
    }
   },
   "cell_type": "code",
   "source": "fun(\"我java学得不错，请推荐相关的技术学习\")",
   "id": "d94a9da32ada902d",
   "execution_count": 11,
   "outputs": []
  },
  {
   "metadata": {
    "ExecuteTime": {
     "end_time": "2024-05-15T07:50:00.124491Z",
     "start_time": "2024-05-15T07:49:53.623249Z"
    }
   },
   "cell_type": "code",
   "source": "fun(\"掌握python可以从事什么岗位？\")",
   "id": "3ab697171a8e3e1",
   "execution_count": 12,
   "outputs": []
  },
  {
   "metadata": {
    "ExecuteTime": {
     "end_time": "2024-05-15T07:58:46.609403Z",
     "start_time": "2024-05-15T07:58:39.168213Z"
    }
   },
   "cell_type": "code",
   "source": "fun(\"php工程师岗位需要什么技能？\")",
   "id": "432b3eddad391355",
   "execution_count": 25,
   "outputs": []
  }
 ],
 "metadata": {
  "kernelspec": {
   "display_name": "Python 3",
   "language": "python",
   "name": "python3"
  },
  "language_info": {
   "codemirror_mode": {
    "name": "ipython",
    "version": 2
   },
   "file_extension": ".py",
   "mimetype": "text/x-python",
   "name": "python",
   "nbconvert_exporter": "python",
   "pygments_lexer": "ipython2",
   "version": "2.7.6"
  }
 },
 "nbformat": 4,
 "nbformat_minor": 5
}
