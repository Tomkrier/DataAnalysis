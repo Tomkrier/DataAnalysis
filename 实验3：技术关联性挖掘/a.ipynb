{
 "cells": [
  {
   "metadata": {
    "ExecuteTime": {
     "end_time": "2024-05-15T02:09:53.290771Z",
     "start_time": "2024-05-15T02:09:51.320374Z"
    }
   },
   "cell_type": "code",
   "source": [
    "import pandas as pd\n",
    "from apriori import calcu_apriori,load_apriori,getAsso\n",
    "from glm import ask_glm,init_ai,chatTools,chat_glmOnce\n",
    "def load_data(fname):\n",
    "    df = pd.read_csv(fname)\n",
    "    # print(df.head())\n",
    "    return df\n"
   ],
   "id": "bcdb6b9641e010aa",
   "execution_count": 1,
   "outputs": []
  },
  {
   "cell_type": "code",
   "id": "initial_id",
   "metadata": {
    "collapsed": true,
    "ExecuteTime": {
     "end_time": "2024-05-15T02:09:54.070576Z",
     "start_time": "2024-05-15T02:09:53.291770Z"
    }
   },
   "source": [
    "dataset=load_data(\"招聘数据集(含技能列表).csv\")\n",
    "print(dataset['skill_list'][0])"
   ],
   "execution_count": 2,
   "outputs": []
  },
  {
   "metadata": {
    "ExecuteTime": {
     "end_time": "2024-05-15T02:09:54.081498Z",
     "start_time": "2024-05-15T02:09:54.071573Z"
    }
   },
   "cell_type": "code",
   "source": [
    "lst = list(dataset['skill_list'])\n",
    "#打印前5个出来看看\n",
    "print(lst[:5])"
   ],
   "id": "4c1d7713ad8f6978",
   "execution_count": 3,
   "outputs": []
  },
  {
   "metadata": {
    "ExecuteTime": {
     "end_time": "2024-05-15T02:09:54.141496Z",
     "start_time": "2024-05-15T02:09:54.084491Z"
    }
   },
   "cell_type": "code",
   "source": [
    "# 将lst转为二维列表skill_list\n",
    "skill_list = [s.split(',') for s in lst]\n",
    "\n",
    "# 输出转换后的二维列表\n",
    "print(skill_list[:5])"
   ],
   "id": "522be42e5d0b426f",
   "execution_count": 4,
   "outputs": []
  },
  {
   "metadata": {
    "ExecuteTime": {
     "end_time": "2024-05-15T02:09:54.147077Z",
     "start_time": "2024-05-15T02:09:54.143492Z"
    }
   },
   "cell_type": "code",
   "source": [
    "# support表示支持度（<1的小数），自定义，根据目前数据集的情况做调整，支持度越大，计算量越小，可以推荐的技术越少。\n",
    "# 这里将计算结果保存到apriori.bin中，这样只需要计算一次关联规则即可。\n",
    "# big,biga = calcu_apriori(skill_list, 0.1,savefile=\"apriori.bin\")"
   ],
   "id": "bf0fa0acaf35c67b",
   "execution_count": 5,
   "outputs": []
  },
  {
   "metadata": {
    "ExecuteTime": {
     "end_time": "2024-05-15T02:09:54.158292Z",
     "start_time": "2024-05-15T02:09:54.148072Z"
    }
   },
   "cell_type": "code",
   "source": [
    "# 这里的0.1可以自行调整，表示只打印满足最小的支持度的技能。这个值越大，打印的数量越少。\n",
    "# linux：要查询的技术的名称，如果由用户输入，必须全部转为小写\n",
    "biga_load = load_apriori(\"apriori.bin\")\n",
    "s = getAsso(biga_load, 'linux', 0.1)\n",
    "print(s)"
   ],
   "id": "9416d9cdbe6392ee",
   "execution_count": 6,
   "outputs": []
  }
 ],
 "metadata": {
  "kernelspec": {
   "display_name": "Python 3",
   "language": "python",
   "name": "python3"
  },
  "language_info": {
   "codemirror_mode": {
    "name": "ipython",
    "version": 2
   },
   "file_extension": ".py",
   "mimetype": "text/x-python",
   "name": "python",
   "nbconvert_exporter": "python",
   "pygments_lexer": "ipython2",
   "version": "2.7.6"
  }
 },
 "nbformat": 4,
 "nbformat_minor": 5
}
